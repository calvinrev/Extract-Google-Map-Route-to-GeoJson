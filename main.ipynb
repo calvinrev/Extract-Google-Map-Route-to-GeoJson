{
 "cells": [
  {
   "cell_type": "code",
   "execution_count": 1,
   "metadata": {},
   "outputs": [],
   "source": [
    "from functions import *\n",
    "from dotenv import load_dotenv\n",
    "\n",
    "load_dotenv()\n",
    "\n",
    "API_KEY = os.getenv('API_KEY')\n",
    "ORIGIN      = \"Badan Pusat Statistik, Jl. Dr. Sutomo No.6-8, Ps. Baru, Kecamatan Sawah Besar, Kota Jakarta Pusat, Daerah Khusus Ibukota Jakarta 10710\"\n",
    "DESTINATION = \"Stasiun Juanda, Raya, 10710, Jl. Ir H. Juanda I B No.4, Kb. Klp., Kecamatan Gambir, Kota Jakarta Pusat, 10120\"\n",
    "ORIGIN_LOC      = {\"latitude\":-6.165034, \"longitude\":106.836927}\n",
    "DESTINATION_LOC = {\"latitude\":-6.167365, \"longitude\":106.830408}"
   ]
  },
  {
   "cell_type": "code",
   "execution_count": 2,
   "metadata": {},
   "outputs": [
    {
     "data": {
      "text/plain": [
       "{'routes': [{'distanceMeters': 2374,\n",
       "   'duration': '354s',\n",
       "   'polyline': {'encodedPolyline': '~bsd@qtakSGG_@N^z@s@Z|EvJLJn@HnAq@hBo@rBo@bB]J@RRzDvJbA`C@b@M`@{FzBk@tASr@B^^|CPfAI|@cBrNc@rCi@E_@QPuANwAL{@P}ArAuIDi@}FE'}}]}"
      ]
     },
     "execution_count": 2,
     "metadata": {},
     "output_type": "execute_result"
    }
   ],
   "source": [
    "address = get_route_by_address(ori=ORIGIN, dest=DESTINATION, key=API_KEY)\n",
    "address"
   ]
  },
  {
   "cell_type": "code",
   "execution_count": 3,
   "metadata": {},
   "outputs": [
    {
     "data": {
      "text/plain": [
       "{'type': 'FeatureCollection',\n",
       " 'features': [{'type': 'Feature',\n",
       "   'geometry': {'type': 'LineString',\n",
       "    'coordinates': [[106.83737, -6.16512],\n",
       "     [106.83741, -6.16508],\n",
       "     [106.83733, -6.16492],\n",
       "     [106.83703, -6.16508],\n",
       "     [106.83689, -6.16482],\n",
       "     [106.83501, -6.16593],\n",
       "     [106.83495, -6.166],\n",
       "     [106.8349, -6.16624],\n",
       "     [106.83515, -6.16664],\n",
       "     [106.83539, -6.16717],\n",
       "     [106.83563, -6.16775],\n",
       "     [106.83578, -6.16825],\n",
       "     [106.83577, -6.16831],\n",
       "     [106.83567, -6.16841],\n",
       "     [106.83379, -6.16935],\n",
       "     [106.83314, -6.16969],\n",
       "     [106.83296, -6.1697],\n",
       "     [106.83279, -6.16963],\n",
       "     [106.83217, -6.16837],\n",
       "     [106.83174, -6.16815],\n",
       "     [106.83148, -6.16805],\n",
       "     [106.83132, -6.16807],\n",
       "     [106.83053, -6.16823],\n",
       "     [106.83017, -6.16832],\n",
       "     [106.82986, -6.16827],\n",
       "     [106.82736, -6.16777],\n",
       "     [106.82662, -6.16759],\n",
       "     [106.82665, -6.16738],\n",
       "     [106.82674, -6.16722],\n",
       "     [106.82717, -6.16731],\n",
       "     [106.82761, -6.16739],\n",
       "     [106.82791, -6.16746],\n",
       "     [106.82838, -6.16755],\n",
       "     [106.83009, -6.16797],\n",
       "     [106.8303, -6.168],\n",
       "     [106.83033, -6.16673]]}}]}"
      ]
     },
     "execution_count": 3,
     "metadata": {},
     "output_type": "execute_result"
    }
   ],
   "source": [
    "convert_to_geojson(address['routes'][0]['polyline']['encodedPolyline'], fName=\"BPS_to_Juanda_by_add\")"
   ]
  },
  {
   "cell_type": "code",
   "execution_count": 4,
   "metadata": {},
   "outputs": [
    {
     "data": {
      "text/plain": [
       "{'routes': [{'distanceMeters': 2231,\n",
       "   'duration': '313s',\n",
       "   'polyline': {'encodedPolyline': 'bbsd@sqakSGKWL|EvJLJn@HnAq@hBo@rBo@bB]J@RRzDvJbA`C@b@M`@{FzBk@tASr@B^^|CPfAI|@cBrNc@rCi@E_@QPuANwAL{@P}ArAuIDi@_CA'}}]}"
      ]
     },
     "execution_count": 4,
     "metadata": {},
     "output_type": "execute_result"
    }
   ],
   "source": [
    "location = get_route_by_location(ori=ORIGIN_LOC, dest=DESTINATION_LOC, key=API_KEY)\n",
    "location"
   ]
  },
  {
   "cell_type": "code",
   "execution_count": 5,
   "metadata": {},
   "outputs": [
    {
     "data": {
      "text/plain": [
       "{'type': 'FeatureCollection',\n",
       " 'features': [{'type': 'Feature',\n",
       "   'geometry': {'type': 'LineString',\n",
       "    'coordinates': [[106.8369, -6.16498],\n",
       "     [106.83696, -6.16494],\n",
       "     [106.83689, -6.16482],\n",
       "     [106.83501, -6.16593],\n",
       "     [106.83495, -6.166],\n",
       "     [106.8349, -6.16624],\n",
       "     [106.83515, -6.16664],\n",
       "     [106.83539, -6.16717],\n",
       "     [106.83563, -6.16775],\n",
       "     [106.83578, -6.16825],\n",
       "     [106.83577, -6.16831],\n",
       "     [106.83567, -6.16841],\n",
       "     [106.83379, -6.16935],\n",
       "     [106.83314, -6.16969],\n",
       "     [106.83296, -6.1697],\n",
       "     [106.83279, -6.16963],\n",
       "     [106.83217, -6.16837],\n",
       "     [106.83174, -6.16815],\n",
       "     [106.83148, -6.16805],\n",
       "     [106.83132, -6.16807],\n",
       "     [106.83053, -6.16823],\n",
       "     [106.83017, -6.16832],\n",
       "     [106.82986, -6.16827],\n",
       "     [106.82736, -6.16777],\n",
       "     [106.82662, -6.16759],\n",
       "     [106.82665, -6.16738],\n",
       "     [106.82674, -6.16722],\n",
       "     [106.82717, -6.16731],\n",
       "     [106.82761, -6.16739],\n",
       "     [106.82791, -6.16746],\n",
       "     [106.82838, -6.16755],\n",
       "     [106.83009, -6.16797],\n",
       "     [106.8303, -6.168],\n",
       "     [106.83031, -6.16736]]}}]}"
      ]
     },
     "execution_count": 5,
     "metadata": {},
     "output_type": "execute_result"
    }
   ],
   "source": [
    "convert_to_geojson(location['routes'][0]['polyline']['encodedPolyline'], fName=\"BPS_to_Juanda_by_loc\")"
   ]
  }
 ],
 "metadata": {
  "kernelspec": {
   "display_name": "base",
   "language": "python",
   "name": "python3"
  },
  "language_info": {
   "codemirror_mode": {
    "name": "ipython",
    "version": 3
   },
   "file_extension": ".py",
   "mimetype": "text/x-python",
   "name": "python",
   "nbconvert_exporter": "python",
   "pygments_lexer": "ipython3",
   "version": "3.8.5"
  }
 },
 "nbformat": 4,
 "nbformat_minor": 2
}
